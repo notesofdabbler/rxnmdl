{
 "cells": [
  {
   "cell_type": "code",
   "execution_count": 1,
   "metadata": {},
   "outputs": [],
   "source": [
    "import re\n",
    "from scipy.integrate import solve_ivp\n",
    "import pandas as pd\n",
    "import matplotlib.pyplot as plt\n",
    "import numpy as np\n",
    "from scipy.optimize import minimize"
   ]
  },
  {
   "cell_type": "code",
   "execution_count": 2,
   "metadata": {},
   "outputs": [],
   "source": [
    "rxnlist = {'r1': 'A = B', 'r2' : 'B -> C'}"
   ]
  },
  {
   "cell_type": "code",
   "execution_count": 3,
   "metadata": {},
   "outputs": [
    {
     "data": {
      "text/html": [
       "<div>\n",
       "<style scoped>\n",
       "    .dataframe tbody tr th:only-of-type {\n",
       "        vertical-align: middle;\n",
       "    }\n",
       "\n",
       "    .dataframe tbody tr th {\n",
       "        vertical-align: top;\n",
       "    }\n",
       "\n",
       "    .dataframe thead th {\n",
       "        text-align: right;\n",
       "    }\n",
       "</style>\n",
       "<table border=\"1\" class=\"dataframe\">\n",
       "  <thead>\n",
       "    <tr style=\"text-align: right;\">\n",
       "      <th></th>\n",
       "      <th>kf</th>\n",
       "      <th>Keq</th>\n",
       "      <th>Eaf</th>\n",
       "      <th>Ear</th>\n",
       "      <th>Tref_C</th>\n",
       "    </tr>\n",
       "  </thead>\n",
       "  <tbody>\n",
       "    <tr>\n",
       "      <td>r1</td>\n",
       "      <td>1000.0</td>\n",
       "      <td>0.3</td>\n",
       "      <td>30000.0</td>\n",
       "      <td>0.0</td>\n",
       "      <td>25.0</td>\n",
       "    </tr>\n",
       "    <tr>\n",
       "      <td>r2</td>\n",
       "      <td>1.0</td>\n",
       "      <td>-1.0</td>\n",
       "      <td>30000.0</td>\n",
       "      <td>0.0</td>\n",
       "      <td>25.0</td>\n",
       "    </tr>\n",
       "  </tbody>\n",
       "</table>\n",
       "</div>"
      ],
      "text/plain": [
       "        kf  Keq      Eaf  Ear  Tref_C\n",
       "r1  1000.0  0.3  30000.0  0.0    25.0\n",
       "r2     1.0 -1.0  30000.0  0.0    25.0"
      ]
     },
     "execution_count": 3,
     "metadata": {},
     "output_type": "execute_result"
    }
   ],
   "source": [
    "rxnparam_dict = {'r1': {'kf':1000, 'Keq': 0.3, 'Eaf': 30000.0, 'Ear': 0.0, 'Tref_C': 25.0}, \n",
    "                 'r2' : {'kf':1.0, 'Keq': -1.0, 'Eaf': 30000.0, 'Ear': 0.0, 'Tref_C': 25.0}}\n",
    "rxnparam = pd.DataFrame.from_dict(rxnparam_dict, orient = 'index')\n",
    "rxnparam"
   ]
  },
  {
   "cell_type": "code",
   "execution_count": 4,
   "metadata": {},
   "outputs": [],
   "source": [
    "def stoicoeff(x):\n",
    "    if '*' in x:\n",
    "        stoi = (x.split('*')[1], int(x.split('*')[0]))\n",
    "    else:\n",
    "        stoi = (x, 1)\n",
    "    return stoi"
   ]
  },
  {
   "cell_type": "code",
   "execution_count": 5,
   "metadata": {},
   "outputs": [
    {
     "data": {
      "text/plain": [
       "(('A', 1), ('B', 2))"
      ]
     },
     "execution_count": 5,
     "metadata": {},
     "output_type": "execute_result"
    }
   ],
   "source": [
    "stoicoeff('A'), stoicoeff('2*B')"
   ]
  },
  {
   "cell_type": "code",
   "execution_count": 6,
   "metadata": {},
   "outputs": [],
   "source": [
    "def get_rxnstoi(rxnlist):\n",
    "    rxnstoi = dict()\n",
    "\n",
    "    for k, rxn in rxnlist.items():\n",
    "        rxn2 = re.split('->|=', rxn)\n",
    "        rxntype = 'eqb' if '=' in rxn else 'fwd'\n",
    "        reactants = [x.strip() for x in rxn2[0].split('+')]\n",
    "        products = [x.strip() for x in rxn2[1].split('+')]\n",
    "        stoi = {stoicoeff(x)[0]: -stoicoeff(x)[1] for x in reactants}\n",
    "        stoi_products = {stoicoeff(x)[0]: stoicoeff(x)[1] for x in products}\n",
    "        stoi.update(stoi_products)\n",
    "        stoi.update({'rxntype': rxntype})\n",
    "        rxnstoi[k] = stoi\n",
    "    \n",
    "    rxnstoi_df = pd.DataFrame.from_dict(rxnstoi, orient = 'index').fillna(0)\n",
    "    \n",
    "    return rxnstoi_df"
   ]
  },
  {
   "cell_type": "code",
   "execution_count": 7,
   "metadata": {},
   "outputs": [
    {
     "data": {
      "text/html": [
       "<div>\n",
       "<style scoped>\n",
       "    .dataframe tbody tr th:only-of-type {\n",
       "        vertical-align: middle;\n",
       "    }\n",
       "\n",
       "    .dataframe tbody tr th {\n",
       "        vertical-align: top;\n",
       "    }\n",
       "\n",
       "    .dataframe thead th {\n",
       "        text-align: right;\n",
       "    }\n",
       "</style>\n",
       "<table border=\"1\" class=\"dataframe\">\n",
       "  <thead>\n",
       "    <tr style=\"text-align: right;\">\n",
       "      <th></th>\n",
       "      <th>A</th>\n",
       "      <th>B</th>\n",
       "      <th>rxntype</th>\n",
       "      <th>C</th>\n",
       "    </tr>\n",
       "  </thead>\n",
       "  <tbody>\n",
       "    <tr>\n",
       "      <td>r1</td>\n",
       "      <td>-1.0</td>\n",
       "      <td>1</td>\n",
       "      <td>eqb</td>\n",
       "      <td>0.0</td>\n",
       "    </tr>\n",
       "    <tr>\n",
       "      <td>r2</td>\n",
       "      <td>0.0</td>\n",
       "      <td>-1</td>\n",
       "      <td>fwd</td>\n",
       "      <td>1.0</td>\n",
       "    </tr>\n",
       "  </tbody>\n",
       "</table>\n",
       "</div>"
      ],
      "text/plain": [
       "      A  B rxntype    C\n",
       "r1 -1.0  1     eqb  0.0\n",
       "r2  0.0 -1     fwd  1.0"
      ]
     },
     "execution_count": 7,
     "metadata": {},
     "output_type": "execute_result"
    }
   ],
   "source": [
    "rxnstoi_df = get_rxnstoi(rxnlist)\n",
    "rxnstoi_df"
   ]
  },
  {
   "cell_type": "code",
   "execution_count": 8,
   "metadata": {},
   "outputs": [],
   "source": [
    "rlist = list(rxnstoi_df.index)"
   ]
  },
  {
   "cell_type": "code",
   "execution_count": 9,
   "metadata": {},
   "outputs": [
    {
     "name": "stdout",
     "output_type": "stream",
     "text": [
      "['A', 'B', 'C']\n",
      "[[-1.  0.]\n",
      " [ 1. -1.]\n",
      " [ 0.  1.]]\n"
     ]
    }
   ],
   "source": [
    "clist = list(rxnstoi_df.drop('rxntype', axis = 1).columns)\n",
    "stoimat = rxnstoi_df.drop('rxntype', axis = 1).to_numpy().T\n",
    "print(clist)\n",
    "print(stoimat)"
   ]
  },
  {
   "cell_type": "code",
   "execution_count": 13,
   "metadata": {},
   "outputs": [],
   "source": [
    "def rate(conc, stoimat, kf, Keq):\n",
    "    \n",
    "    ncmp = stoimat.shape[0]\n",
    "    nrxn = stoimat.shape[1]\n",
    "    rrate = np.zeros(nrxn)\n",
    "    for r in range(nrxn):\n",
    "        # calculate forward reaction rate\n",
    "        rfstoi = stoimat[:, r].copy()\n",
    "        rfstoi[rfstoi > 0] = 0\n",
    "        rf = kf[r] * np.prod(conc ** (-rfstoi))\n",
    "        # calculate reverse reaction rate\n",
    "        if Keq[r] > 0:\n",
    "            rrstoi = stoimat[:, r].copy()\n",
    "            rrstoi[rrstoi < 0] = 0\n",
    "            rr = kf[r] / Keq[r] * np.prod(conc ** (rrstoi))\n",
    "        else:\n",
    "            rr = 0.0\n",
    "        # overall reaction rate\n",
    "        rrate[r] = rf - rr\n",
    "\n",
    "    dc = np.matmul(stoimat, rrate)\n",
    "    \n",
    "    return dc"
   ]
  },
  {
   "cell_type": "code",
   "execution_count": 14,
   "metadata": {},
   "outputs": [],
   "source": [
    "def simulate(tspan, cinit, T, rxnparam, t_eval = None):\n",
    "    \n",
    "    R = 8.314\n",
    "    \n",
    "    kf = rxnparam['kf'].values\n",
    "    Keq = rxnparam['Keq'].values\n",
    "    Eaf = rxnparam['Eaf'].values\n",
    "    Ear = rxnparam['Ear'].values\n",
    "    Tref_C = rxnparam['Tref_C'].values\n",
    "    \n",
    "    kf = kf * np.exp((-Eaf / R) * (1/(T + 273) - 1/(Tref_C + 273)))\n",
    "    Keq = Keq * np.exp((-(Eaf - Ear) / R) * (1/(T + 273) - 1/(Tref_C + 273)))\n",
    "    rate_lam = lambda t, c: rate(c, stoimat, kf, Keq)\n",
    "    csol = solve_ivp(rate_lam, tspan, cinit, method = 'BDF', t_eval = t_eval)\n",
    "    \n",
    "    return csol"
   ]
  },
  {
   "cell_type": "code",
   "execution_count": 15,
   "metadata": {},
   "outputs": [],
   "source": [
    "csol = simulate([0, 10], [1, 0, 0], 25, rxnparam)"
   ]
  },
  {
   "cell_type": "code",
   "execution_count": 16,
   "metadata": {},
   "outputs": [
    {
     "data": {
      "text/plain": [
       "<matplotlib.legend.Legend at 0x1516a5b5f8>"
      ]
     },
     "execution_count": 16,
     "metadata": {},
     "output_type": "execute_result"
    },
    {
     "data": {
      "image/png": "[encoded data removed]",
      "text/plain": [
       "<Figure size 432x288 with 1 Axes>"
      ]
     },
     "metadata": {
      "needs_background": "light"
     },
     "output_type": "display_data"
    }
   ],
   "source": [
    "fig, ax = plt.subplots()\n",
    "ax.plot(csol.t, csol.y[0, :], label = 'A')\n",
    "ax.plot(csol.t, csol.y[1, :], label = 'B')\n",
    "ax.plot(csol.t, csol.y[2, :], label = 'C')\n",
    "ax.legend()"
   ]
  },
  {
   "cell_type": "code",
   "execution_count": 94,
   "metadata": {},
   "outputs": [
    {
     "data": {
      "text/html": [
       "<div>\n",
       "<style scoped>\n",
       "    .dataframe tbody tr th:only-of-type {\n",
       "        vertical-align: middle;\n",
       "    }\n",
       "\n",
       "    .dataframe tbody tr th {\n",
       "        vertical-align: top;\n",
       "    }\n",
       "\n",
       "    .dataframe thead th {\n",
       "        text-align: right;\n",
       "    }\n",
       "</style>\n",
       "<table border=\"1\" class=\"dataframe\">\n",
       "  <thead>\n",
       "    <tr style=\"text-align: right;\">\n",
       "      <th></th>\n",
       "      <th>t</th>\n",
       "      <th>ca</th>\n",
       "      <th>cb</th>\n",
       "      <th>cc</th>\n",
       "    </tr>\n",
       "  </thead>\n",
       "  <tbody>\n",
       "    <tr>\n",
       "      <td>0</td>\n",
       "      <td>0.000</td>\n",
       "      <td>0.957</td>\n",
       "      <td>-0.031</td>\n",
       "      <td>-0.015</td>\n",
       "    </tr>\n",
       "    <tr>\n",
       "      <td>1</td>\n",
       "      <td>0.263</td>\n",
       "      <td>0.557</td>\n",
       "      <td>0.330</td>\n",
       "      <td>0.044</td>\n",
       "    </tr>\n",
       "    <tr>\n",
       "      <td>2</td>\n",
       "      <td>0.526</td>\n",
       "      <td>0.342</td>\n",
       "      <td>0.512</td>\n",
       "      <td>0.156</td>\n",
       "    </tr>\n",
       "    <tr>\n",
       "      <td>3</td>\n",
       "      <td>0.789</td>\n",
       "      <td>0.224</td>\n",
       "      <td>0.499</td>\n",
       "      <td>0.310</td>\n",
       "    </tr>\n",
       "    <tr>\n",
       "      <td>4</td>\n",
       "      <td>1.053</td>\n",
       "      <td>0.123</td>\n",
       "      <td>0.428</td>\n",
       "      <td>0.454</td>\n",
       "    </tr>\n",
       "  </tbody>\n",
       "</table>\n",
       "</div>"
      ],
      "text/plain": [
       "       t     ca     cb     cc\n",
       "0  0.000  0.957 -0.031 -0.015\n",
       "1  0.263  0.557  0.330  0.044\n",
       "2  0.526  0.342  0.512  0.156\n",
       "3  0.789  0.224  0.499  0.310\n",
       "4  1.053  0.123  0.428  0.454"
      ]
     },
     "execution_count": 94,
     "metadata": {},
     "output_type": "execute_result"
    }
   ],
   "source": [
    "data_df = pd.read_csv(\"ABC_data.csv\")\n",
    "data_df.head()"
   ]
  },
  {
   "cell_type": "code",
   "execution_count": 95,
   "metadata": {},
   "outputs": [],
   "source": [
    "data = dict()\n",
    "data['ABC'] = {'process' : {'cinit': [1, 0, 0]}}\n",
    "data['ABC']['meas'] = dict()"
   ]
  },
  {
   "cell_type": "code",
   "execution_count": 96,
   "metadata": {},
   "outputs": [],
   "source": [
    "data['ABC']['meas']['ca'] = {x[0]: [x[1], x[2]] \n",
    "                             for x in zip(range(len(data_df.t.values)), data_df.t.values, data_df.ca.values)}\n",
    "data['ABC']['meas']['cb'] = {x[0]: [x[1], x[2]] \n",
    "                             for x in zip(range(len(data_df.t.values)), data_df.t.values, data_df.cb.values)}\n",
    "data['ABC']['meas']['cc'] = {x[0]: [x[1], x[2]] \n",
    "                             for x in zip(range(len(data_df.t.values)), data_df.t.values, data_df.cc.values)}\n",
    "\n",
    "\n",
    "tmeas_list = []\n",
    "for meas_var, meas_data in data['ABC']['meas'].items():\n",
    "    tmeas_list += [x[0] for x in meas_data.values()]\n",
    "    \n",
    "data['ABC']['meas_t'] = np.unique(tmeas_list)"
   ]
  },
  {
   "cell_type": "code",
   "execution_count": 105,
   "metadata": {},
   "outputs": [],
   "source": [
    "def calc_ssq(theta, data, rxnparam):\n",
    "    \n",
    "    rxnparam_tmp = rxnparam.copy()\n",
    "    rxnparam_tmp['kf'][0] = theta[0]\n",
    "    rxnparam_tmp['kf'][1] = theta[1]\n",
    "\n",
    "    meas_varlist = ['ca', 'cb', 'cc']\n",
    "    solidx = {'ca': 0, 'cb': 1, 'cc': 2}\n",
    "    wt_var = [1, 1, 1]\n",
    "    \n",
    "    ssq = 0\n",
    "    for expt in data.values():\n",
    "        cinit = expt['process']['cinit']\n",
    "        tspan = [0, 10]\n",
    "\n",
    "        T = 25\n",
    "        csol = simulate(tspan, cinit, T, rxnparam_tmp, expt['meas_t'])\n",
    "\n",
    "        for i, meas_var in enumerate(meas_varlist):\n",
    "            expt_t = expt['meas_t']\n",
    "            data_t = [x[0] for x in expt['meas'][meas_var].values()]\n",
    "            data_val = np.array([x[1] for x in expt['meas'][meas_var].values()])\n",
    "            idx = np.where(np.in1d(expt_t, data_t))\n",
    "            pred_val = csol.y[solidx[meas_var]][idx]\n",
    "\n",
    "            ssq = ssq + wt_var[i] * np.sum((pred_val - data_val) ** 2)\n",
    "\n",
    "    return ssq"
   ]
  },
  {
   "cell_type": "code",
   "execution_count": 107,
   "metadata": {},
   "outputs": [
    {
     "data": {
      "text/plain": [
       "0.6530175180488677"
      ]
     },
     "execution_count": 107,
     "metadata": {},
     "output_type": "execute_result"
    }
   ],
   "source": [
    "calc_ssq(np.array([1, 1]), data, rxnparam)"
   ]
  },
  {
   "cell_type": "code",
   "execution_count": 108,
   "metadata": {},
   "outputs": [],
   "source": [
    "res = minimize(calc_ssq, np.array([1, 1]), args = (data, rxnparam), method = 'BFGS')"
   ]
  },
  {
   "cell_type": "code",
   "execution_count": 109,
   "metadata": {},
   "outputs": [
    {
     "data": {
      "text/plain": [
       "      fun: 0.0260833272925221\n",
       " hess_inv: array([[ 2.7173801 , -0.40426801],\n",
       "       [-0.40426801,  0.3349931 ]])\n",
       "      jac: array([ 8.07922333e-08, -3.61818820e-07])\n",
       "  message: 'Optimization terminated successfully.'\n",
       "     nfev: 36\n",
       "      nit: 7\n",
       "     njev: 9\n",
       "   status: 0\n",
       "  success: True\n",
       "        x: array([2.01846548, 0.99337053])"
      ]
     },
     "execution_count": 109,
     "metadata": {},
     "output_type": "execute_result"
    }
   ],
   "source": [
    "res"
   ]
  },
  {
   "cell_type": "code",
   "execution_count": 82,
   "metadata": {},
   "outputs": [
    {
     "data": {
      "text/plain": [
       "kf        int64\n",
       "Keq       int64\n",
       "Eaf       int64\n",
       "Ear       int64\n",
       "Tref_C    int64\n",
       "dtype: object"
      ]
     },
     "execution_count": 82,
     "metadata": {},
     "output_type": "execute_result"
    }
   ],
   "source": [
    "rxnparam.dtypes"
   ]
  },
  {
   "cell_type": "code",
   "execution_count": 43,
   "metadata": {},
   "outputs": [
    {
     "data": {
      "text/plain": [
       "numpy.ndarray"
      ]
     },
     "execution_count": 43,
     "metadata": {},
     "output_type": "execute_result"
    }
   ],
   "source": [
    "type(csol.y)"
   ]
  },
  {
   "cell_type": "code",
   "execution_count": 33,
   "metadata": {},
   "outputs": [
    {
     "data": {
      "text/html": [
       "<div>\n",
       "<style scoped>\n",
       "    .dataframe tbody tr th:only-of-type {\n",
       "        vertical-align: middle;\n",
       "    }\n",
       "\n",
       "    .dataframe tbody tr th {\n",
       "        vertical-align: top;\n",
       "    }\n",
       "\n",
       "    .dataframe thead th {\n",
       "        text-align: right;\n",
       "    }\n",
       "</style>\n",
       "<table border=\"1\" class=\"dataframe\">\n",
       "  <thead>\n",
       "    <tr style=\"text-align: right;\">\n",
       "      <th></th>\n",
       "      <th>kf</th>\n",
       "      <th>Keq</th>\n",
       "      <th>Eaf</th>\n",
       "      <th>Ear</th>\n",
       "      <th>Tref_C</th>\n",
       "    </tr>\n",
       "  </thead>\n",
       "  <tbody>\n",
       "    <tr>\n",
       "      <td>r1</td>\n",
       "      <td>1</td>\n",
       "      <td>-1</td>\n",
       "      <td>30000</td>\n",
       "      <td>0</td>\n",
       "      <td>25</td>\n",
       "    </tr>\n",
       "    <tr>\n",
       "      <td>r2</td>\n",
       "      <td>1</td>\n",
       "      <td>-1</td>\n",
       "      <td>30000</td>\n",
       "      <td>0</td>\n",
       "      <td>25</td>\n",
       "    </tr>\n",
       "  </tbody>\n",
       "</table>\n",
       "</div>"
      ],
      "text/plain": [
       "    kf  Keq    Eaf  Ear  Tref_C\n",
       "r1   1   -1  30000    0      25\n",
       "r2   1   -1  30000    0      25"
      ]
     },
     "execution_count": 33,
     "metadata": {},
     "output_type": "execute_result"
    }
   ],
   "source": [
    "rxnparam"
   ]
  },
  {
   "cell_type": "code",
   "execution_count": 119,
   "metadata": {},
   "outputs": [],
   "source": [
    "def ovly_expt_pred(theta, exptid, varname, data, rxnparam):\n",
    "    \n",
    "    rxnparam_tmp = rxnparam.copy()\n",
    "    rxnparam_tmp['kf'][0] = theta[0]\n",
    "    rxnparam_tmp['kf'][1] = theta[1]\n",
    "\n",
    "    meas_varlist = ['ca', 'cb', 'cc']\n",
    "    solidx = {'ca': 0, 'cb': 1, 'cc': 2}\n",
    "    \n",
    "    expt = data[exptid]\n",
    "    \n",
    "    cinit = expt['process']['cinit']\n",
    "    tspan = [0, 10]\n",
    "\n",
    "    T = 25\n",
    "    csol = simulate(tspan, cinit, T, rxnparam_tmp, expt['meas_t'])\n",
    "    \n",
    "    fig, ax = plt.subplots()\n",
    "    ax.plot(csol.t, csol.y[solidx[varname]], label = varname)\n",
    "\n",
    "    data_t = [x[0] for x in expt['meas'][varname].values()]\n",
    "    data_val = np.array([x[1] for x in expt['meas'][varname].values()])\n",
    "    \n",
    "    ax.plot(data_t, data_val, 'bo')\n",
    "    ax.legend()\n",
    "            \n"
   ]
  },
  {
   "cell_type": "code",
   "execution_count": 122,
   "metadata": {},
   "outputs": [
    {
     "data": {
      "image/png": "[encoded data removed]",
      "text/plain": [
       "<Figure size 432x288 with 1 Axes>"
      ]
     },
     "metadata": {
      "needs_background": "light"
     },
     "output_type": "display_data"
    }
   ],
   "source": [
    "ovly_expt_pred(np.array([2.0, 1.0]), 'ABC', 'cc', data, rxnparam)"
   ]
  },
  {
   "cell_type": "code",
   "execution_count": null,
   "metadata": {},
   "outputs": [],
   "source": []
  }
 ],
 "metadata": {
  "kernelspec": {
   "display_name": "Python 3",
   "language": "python",
   "name": "python3"
  },
  "language_info": {
   "codemirror_mode": {
    "name": "ipython",
    "version": 3
   },
   "file_extension": ".py",
   "mimetype": "text/x-python",
   "name": "python",
   "nbconvert_exporter": "python",
   "pygments_lexer": "ipython3",
   "version": "3.6.9"
  }
 },
 "nbformat": 4,
 "nbformat_minor": 2
}
